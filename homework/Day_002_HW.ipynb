{
 "cells": [
  {
   "cell_type": "markdown",
   "metadata": {},
   "source": [
    "## [作業目標]\n",
    "了解機器學習適合應用的領域與範疇。"
   ]
  },
  {
   "cell_type": "markdown",
   "metadata": {},
   "source": [
    "## [作業重點]\n",
    "透過瞭解機器學習的運作方式，找出非常適用機器學習應用的領域及其原因"
   ]
  },
  {
   "cell_type": "markdown",
   "metadata": {},
   "source": [
    "## 作業\n",
    "請找出一個你認為機器學習可以發光發熱的領域並闡述原因? "
   ]
  },
  {
   "cell_type": "markdown",
   "metadata": {},
   "source": [
    "醫療領域\n",
    "\n",
    "根據目前機器學習在醫療領域的研究顯示出是有效果且具發展潛力的，如醫療影像識別(e.g., 糖尿病視網膜病變, 癌症篩檢)，且在醫療領域有大量的病歷資料，經處理後可供模型訓練，未來醫療領域透過機器學習或許可找出病患的行為模式與臨床路徑分析、預測醫療資源利用率、治療結果及預測病症、癒後狀況等，分擔專業醫療從業人員的工作附載量，並加快檢測效率，期望未來可藉以達成精準醫療的效果。\n",
    "\n"
   ]
  }
 ],
 "metadata": {
  "kernelspec": {
   "display_name": "Python 3",
   "language": "python",
   "name": "python3"
  },
  "language_info": {
   "codemirror_mode": {
    "name": "ipython",
    "version": 3
   },
   "file_extension": ".py",
   "mimetype": "text/x-python",
   "name": "python",
   "nbconvert_exporter": "python",
   "pygments_lexer": "ipython3",
   "version": "3.6.5"
  }
 },
 "nbformat": 4,
 "nbformat_minor": 2
}
